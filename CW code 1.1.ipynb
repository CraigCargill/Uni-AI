{
 "cells": [
  {
   "cell_type": "markdown",
   "metadata": {},
   "source": [
    "## Import Libraries"
   ]
  },
  {
   "cell_type": "code",
   "execution_count": 1,
   "metadata": {},
   "outputs": [],
   "source": [
    "%matplotlib inline\n",
    "\n",
    "import pandas as pd # to manage data frames and reading csv files\n",
    "import numpy as np\n",
    "#for the sigmoid function we need expit() from scipy\n",
    "import scipy.special\n",
    "#library for plotting arrays\n",
    "import matplotlib.pyplot as plt\n",
    "# A particularly interesting backend, provided by IPython, is the inline backend. \n",
    "# This is available only for the Jupyter Notebook and the Jupyter QtConsole. \n",
    "# It can be invoked as follows: %matplotlib inline\n",
    "# With this backend, the output of plotting commands is displayed inline \n",
    "# within frontends like the Jupyter notebook, directly below the code cell that produced it. \n",
    "# The resulting plots are inside this notebook, not an external window.\n",
    "import seaborn as sns\n",
    "sns.set_style(\"darkgrid\")"
   ]
  },
  {
   "cell_type": "markdown",
   "metadata": {},
   "source": [
    "## Set Global Variables"
   ]
  },
  {
   "cell_type": "code",
   "execution_count": 2,
   "metadata": {},
   "outputs": [],
   "source": [
    "#number of input, hidden and output nodes\n",
    "input_nodes = 784 #we have a 28x28 matrix to describe each digit\n",
    "hidden_nodes = 250\n",
    "output_nodes = 10\n",
    "\n",
    "learning_rate = 0.2\n",
    "batch_size = 3 # increase this if you want batch gradient descent\n",
    "\n",
    "# epochs is the number of training iterations \n",
    "epochs = 20\n",
    "\n",
    "# datasets to read\n",
    "# you can change these when trying out other datasets\n",
    "train_file = \"mnist_train.csv\"\n",
    "test_file = \"mnist_test.csv\""
   ]
  },
  {
   "cell_type": "markdown",
   "metadata": {},
   "source": [
    "## Get the MNIST Data into a Frame"
   ]
  },
  {
   "cell_type": "code",
   "execution_count": 4,
   "metadata": {},
   "outputs": [
    {
     "name": "stdout",
     "output_type": "stream",
     "text": [
      "<class 'pandas.core.frame.DataFrame'>\n",
      "RangeIndex: 60000 entries, 0 to 59999\n",
      "Columns: 785 entries, 0 to 784\n",
      "dtypes: int64(785)\n",
      "memory usage: 359.3 MB\n",
      "(60000, 10)\n",
      "(60000, 784)\n",
      "(10000, 10)\n",
      "(10000, 784)\n"
     ]
    }
   ],
   "source": [
    "df_orig_train = pd.read_csv(train_file, header=None)  # read entire train dataset\n",
    "df_orig_test = pd.read_csv(test_file, header=None)  # read entire test dataset\n",
    "df_orig_train.info()\n",
    "\n",
    "y_train_all =  pd.get_dummies(df_orig_train[0]).values\n",
    "X_train_all = df_orig_train.drop(0, axis = 1).values\n",
    "print(y_train_all.shape)\n",
    "print(X_train_all.shape)\n",
    "\n",
    "y_test_all =  pd.get_dummies(df_orig_test[0]).values\n",
    "X_test_all = df_orig_test.drop(0, axis = 1).values\n",
    "print(y_test_all.shape)\n",
    "print(X_test_all.shape)"
   ]
  },
  {
   "cell_type": "markdown",
   "metadata": {},
   "source": [
    "## Helper Functions to Preprocess the Data"
   ]
  },
  {
   "cell_type": "code",
   "execution_count": 5,
   "metadata": {},
   "outputs": [
    {
     "name": "stdout",
     "output_type": "stream",
     "text": [
      "(1500, 10)\n",
      "(1500, 784)\n",
      "(1500, 10)\n",
      "(100, 10)\n",
      "(100, 784)\n"
     ]
    }
   ],
   "source": [
    "# Select smaller samples of the train and test datasets (will execute faster when training our networks than using the entire dataset)\n",
    "train_sample_size = 1500  # choosing a smaller sample instead of the entire dataset\n",
    "random_indices = np.random.choice(range(len(y_train_all)), train_sample_size, replace = False)\n",
    "\n",
    "X_train = X_train_all[random_indices]\n",
    "y_train = y_train_all[random_indices]\n",
    "print(y_train.shape)\n",
    "print(X_train.shape)\n",
    "\n",
    "#preprocessing steps\n",
    "X_train = (X_train / 255.0 * 0.99) + 0.01\n",
    "y_train = y_train + 0.01\n",
    "y_train = np.where(y_train != 1.01, y_train, 0.99)\n",
    "print(y_train.shape)\n",
    "\n",
    "test_sample_size = 100 \n",
    "random_test_indices = np.random.choice(range(len(y_test_all)), test_sample_size, replace = False)\n",
    "X_test = X_test_all[random_test_indices]\n",
    "y_test = y_test_all[random_test_indices]\n",
    "print(y_test.shape)\n",
    "print(X_test.shape)\n",
    "\n",
    "X_test = (X_test / 255.0 * 0.99) + 0.01\n",
    "y_test = y_test + 0.01\n",
    "y_test = np.where(y_test != 1.01, y_test, 0.99)"
   ]
  },
  {
   "cell_type": "markdown",
   "metadata": {},
   "source": [
    "## Helper functions for Evaluation"
   ]
  },
  {
   "cell_type": "code",
   "execution_count": 6,
   "metadata": {},
   "outputs": [],
   "source": [
    "def mean_squared_error(predictions, targets):\n",
    "    \"\"\"\n",
    "    Calculates mean squared error of a model's predictions.\n",
    "    \"\"\"\n",
    "    N=targets.size\n",
    "    mse = ((targets - predictions) **2).sum() / (2*N)\n",
    "    return mse\n",
    "\n",
    "\n",
    "def accuracy(predictions, targets):\n",
    "    \"\"\"\n",
    "    Calculates the accuracy of a model's predictions.\n",
    "    \"\"\"\n",
    "    prediction_labels = np.argmax(predictions, axis=1)\n",
    "    target_labels = np.argmax(targets, axis=1)\n",
    "    predictions_correct = (prediction_labels == target_labels.round())\n",
    "    accuracy = predictions_correct.mean()\n",
    "    return accuracy"
   ]
  },
  {
   "cell_type": "markdown",
   "metadata": {},
   "source": [
    "## Helper classes for activations"
   ]
  },
  {
   "cell_type": "code",
   "execution_count": 7,
   "metadata": {},
   "outputs": [],
   "source": [
    "class Activation_ReLU:\n",
    "    def forward(self, inputs):\n",
    "        self.output = np.maximum(0, inputs)\n",
    "    def backward(self, inputs):\n",
    "        self.output = np.greater(inputs, 0).astype(int) # inputs > 0 then convert bools to int\n",
    "        \n",
    "class Activation_Sigmoid:\n",
    "    def forward(self, x):\n",
    "        return(1 / (1 + np.exp(-x)))\n",
    "    def backward(self, x):\n",
    "        return(x * ( 1 - x))"
   ]
  },
  {
   "cell_type": "markdown",
   "metadata": {},
   "source": [
    "## Class Layer_dense to build layers"
   ]
  },
  {
   "cell_type": "code",
   "execution_count": 8,
   "metadata": {},
   "outputs": [],
   "source": [
    "class Layer_Dense:\n",
    "    def __init__(self, n_inputs, n_neurons, learningrate=0.01, activation='sigmoid'):\n",
    "        \n",
    "        self.weights = np.random.normal(0.0, pow(n_inputs, -0.5), (n_inputs, n_neurons))\n",
    "        print(self.weights.shape)\n",
    "        self.biases = np.zeros((1, n_neurons))\n",
    "       \n",
    "        self.lr = learningrate\n",
    "        self.activate=activation  \n",
    "        \n",
    "    def forward(self, inputs):\n",
    "        self.in_values = inputs\n",
    "        self.layer_input = np.dot(inputs , self.weights) + self.biases\n",
    "        self.activation()\n",
    "    \n",
    "    def activation(self):\n",
    "        if self.activate == 'sigmoid':\n",
    "            a = Activation_Sigmoid()\n",
    "            self.layer_output = a.forward(self.layer_input)\n",
    "            \n",
    "           \n",
    "    def del_activation(self):\n",
    "        if self.activate == 'sigmoid':\n",
    "            del_a = Activation_Sigmoid()\n",
    "            self.del_layer_output =  del_a.backward(del_a.forward(self.layer_input))\n",
    "      \n",
    "    def backward(self, delta_in, weights_in, targets=None, output_layer=False):\n",
    "        self.del_activation()\n",
    "        if output_layer:\n",
    "            self.layer_error = self.layer_output - targets\n",
    "            self.layer_delta = self.layer_error * self.del_layer_output\n",
    "        else:          \n",
    "            self.layer_error = np.dot(delta_in, weights_in.T)\n",
    "            self.layer_delta = self.layer_error * self.del_layer_output\n",
    "        \n",
    "    def weight_update(self, prev_layer_output):\n",
    "        # print(\"prev_layer_output.T.shape: \"+str(prev_layer_output.T.shape))\n",
    "        # print(\"self.layer_delta.shape: \"+str(self.layer_delta.shape))\n",
    "        N = self.layer_delta.shape[0]\n",
    "        weights_update = np.dot(prev_layer_output.T, self.layer_delta) / N\n",
    "        # print(weights_update.shape)\n",
    "        self.weights -= self.lr * weights_update\n",
    "        biases_update = np.mean(self.layer_delta, axis=0, keepdims=True)\n",
    "        # print(\"biases_update.shape: \"+ str(biases_update.shape))\n",
    "        # print(\"self.biases.shape: \"+ str(self.biases.shape))\n",
    "        self.biases -= self.lr * biases_update"
   ]
  },
  {
   "cell_type": "code",
   "execution_count": 9,
   "metadata": {},
   "outputs": [
    {
     "name": "stdout",
     "output_type": "stream",
     "text": [
      "(784, 200)\n",
      "(200, 10)\n"
     ]
    },
    {
     "data": {
      "text/html": [
       "<div>\n",
       "<style scoped>\n",
       "    .dataframe tbody tr th:only-of-type {\n",
       "        vertical-align: middle;\n",
       "    }\n",
       "\n",
       "    .dataframe tbody tr th {\n",
       "        vertical-align: top;\n",
       "    }\n",
       "\n",
       "    .dataframe thead th {\n",
       "        text-align: right;\n",
       "    }\n",
       "</style>\n",
       "<table border=\"1\" class=\"dataframe\">\n",
       "  <thead>\n",
       "    <tr style=\"text-align: right;\">\n",
       "      <th></th>\n",
       "      <th>mean_squared_error</th>\n",
       "      <th>accuracy</th>\n",
       "    </tr>\n",
       "  </thead>\n",
       "  <tbody>\n",
       "    <tr>\n",
       "      <th>0</th>\n",
       "      <td>0.147886</td>\n",
       "      <td>0.119333</td>\n",
       "    </tr>\n",
       "    <tr>\n",
       "      <th>1</th>\n",
       "      <td>0.141949</td>\n",
       "      <td>0.119333</td>\n",
       "    </tr>\n",
       "    <tr>\n",
       "      <th>2</th>\n",
       "      <td>0.136223</td>\n",
       "      <td>0.119333</td>\n",
       "    </tr>\n",
       "    <tr>\n",
       "      <th>3</th>\n",
       "      <td>0.130721</td>\n",
       "      <td>0.120000</td>\n",
       "    </tr>\n",
       "    <tr>\n",
       "      <th>4</th>\n",
       "      <td>0.125453</td>\n",
       "      <td>0.121333</td>\n",
       "    </tr>\n",
       "    <tr>\n",
       "      <th>...</th>\n",
       "      <td>...</td>\n",
       "      <td>...</td>\n",
       "    </tr>\n",
       "    <tr>\n",
       "      <th>95</th>\n",
       "      <td>0.044949</td>\n",
       "      <td>0.210000</td>\n",
       "    </tr>\n",
       "    <tr>\n",
       "      <th>96</th>\n",
       "      <td>0.044901</td>\n",
       "      <td>0.211333</td>\n",
       "    </tr>\n",
       "    <tr>\n",
       "      <th>97</th>\n",
       "      <td>0.044854</td>\n",
       "      <td>0.211333</td>\n",
       "    </tr>\n",
       "    <tr>\n",
       "      <th>98</th>\n",
       "      <td>0.044808</td>\n",
       "      <td>0.214667</td>\n",
       "    </tr>\n",
       "    <tr>\n",
       "      <th>99</th>\n",
       "      <td>0.044763</td>\n",
       "      <td>0.215333</td>\n",
       "    </tr>\n",
       "  </tbody>\n",
       "</table>\n",
       "<p>100 rows × 2 columns</p>\n",
       "</div>"
      ],
      "text/plain": [
       "    mean_squared_error  accuracy\n",
       "0             0.147886  0.119333\n",
       "1             0.141949  0.119333\n",
       "2             0.136223  0.119333\n",
       "3             0.130721  0.120000\n",
       "4             0.125453  0.121333\n",
       "..                 ...       ...\n",
       "95            0.044949  0.210000\n",
       "96            0.044901  0.211333\n",
       "97            0.044854  0.211333\n",
       "98            0.044808  0.214667\n",
       "99            0.044763  0.215333\n",
       "\n",
       "[100 rows x 2 columns]"
      ]
     },
     "execution_count": 9,
     "metadata": {},
     "output_type": "execute_result"
    }
   ],
   "source": [
    "layer1 = Layer_Dense(784, 200) # set the weight matrix dimensions (input nodes x hidden nodes)\n",
    "output = Layer_Dense(200, 10) # set the weight matrix dimensions (hidden nodes x output nodes)\n",
    "\n",
    "# maintain a dataframe to keep track of the network error\n",
    "monitoring = {}\n",
    "monitoring['mean_squared_error'] = []\n",
    "monitoring['accuracy'] = []\n",
    "\n",
    "# iterate and update weights at each epoch\n",
    "for epoch in range(100):\n",
    "    layer1.forward(X_train)\n",
    "    # print('layer1 output \\n' ,layer1.layer_output.shape)\n",
    "    output.forward(layer1.layer_output)\n",
    "    # print('layer output  \\n', output.layer_output.shape)\n",
    "\n",
    "    # train metrics\n",
    "    pred = output.layer_output\n",
    "    mse = mean_squared_error(pred, y_train)\n",
    "    acc = accuracy(output.layer_output, y_train)\n",
    "    monitoring['mean_squared_error'].append(mse)\n",
    "    monitoring['accuracy'].append(acc)\n",
    "\n",
    "    # backprop through the layers \n",
    "    output.backward(None, None, y_train, True)\n",
    "    # print('layer out delta  \\n', output.layer_delta.shape)\n",
    "    layer1.backward(output.layer_delta, output.weights)\n",
    "    # print('layer1 delta  \\n', layer1.layer_delta.shape)\n",
    "\n",
    "    # update all the layer weights\n",
    "    output.weight_update(layer1.layer_output)\n",
    "    # print('layer weights  \\n', output.weights.shape)\n",
    "    layer1.weight_update(X_train)\n",
    "    # print('layer weights  \\n', layer1.weights.shape)\n",
    "\n",
    "monitoring_df = pd.DataFrame(monitoring)   \n",
    "monitoring_df"
   ]
  },
  {
   "cell_type": "markdown",
   "metadata": {},
   "source": [
    "## Build ANN Class"
   ]
  },
  {
   "cell_type": "code",
   "execution_count": 10,
   "metadata": {},
   "outputs": [],
   "source": [
    "class ANN():\n",
    "    def __init__(self, ouput_layer, hidden_layer, batch_size = 10):\n",
    "        self.output = ouput_layer\n",
    "        self.layer1 = hidden_layer\n",
    "        self.batch_size = batch_size\n",
    "\n",
    "    def batch_input(self, x, y):\n",
    "        for i in range(0, len(x), self.batch_size):\n",
    "            yield (x[i:i + self.batch_size], y[i:i + self.batch_size])\n",
    "\n",
    "    def train(self, x, y, epochs, lr):\n",
    "        self.layer1.lr = lr\n",
    "        self.output.lr = lr\n",
    "\n",
    "        monitoring = {}\n",
    "        monitoring['mean_squared_error'] = []\n",
    "        monitoring['accuracy'] = []\n",
    "\n",
    "        for epoch in range(epochs):\n",
    "\n",
    "            for (batch_x, batch_y) in self.batch_input(x, y):\n",
    "                self.layer1.forward(batch_x)\n",
    "                # print('layer1 output \\n' ,layer1.layer_output.shape)\n",
    "                self.output.forward(self.layer1.layer_output)\n",
    "                # print('layer output  \\n', output.layer_output.shape)\n",
    "\n",
    "                # backprop through the layers \n",
    "                self.output.backward(None, None, batch_y, True)\n",
    "                # print('layer out delta  \\n', output.layer_delta.shape)\n",
    "                self.layer1.backward(self.output.layer_delta, self.output.weights)\n",
    "                # print('layer1 delta  \\n', layer1.layer_delta.shape)\n",
    "\n",
    "                # update all the layer weights\n",
    "                self.output.weight_update(self.layer1.layer_output)\n",
    "                # print('layer weights  \\n', output.weights.shape)\n",
    "                self.layer1.weight_update(batch_x)\n",
    "                # print('layer weights  \\n', layer1.weights.shape)\n",
    "            pred = self.predict(x)\n",
    "            mse, acc = self.evaluate(pred, y)\n",
    "            monitoring['mean_squared_error'].append(mse)\n",
    "            monitoring['accuracy'].append(acc)\n",
    "\n",
    "        monitoring_df = pd.DataFrame(monitoring)   \n",
    "        return monitoring_df\n",
    "\n",
    "    def predict(self, x):\n",
    "        self.layer1.forward(x)\n",
    "        self.output.forward(self.layer1.layer_output)\n",
    "        return self.output.layer_output\n",
    "\n",
    "    def evaluate(self, predicts, y):\n",
    "        mse = mean_squared_error(predicts, y)\n",
    "        acc = accuracy(predicts, y)\n",
    "        return mse, acc\n",
    "\n",
    "    def test(self, x, y):\n",
    "        monitoring = {}\n",
    "        pred = self.predict(x)\n",
    "        mse, acc = self.evaluate(pred, y)\n",
    "        monitoring['mean_squared_error'] = [mse]\n",
    "        monitoring['accuracy'] = [acc]\n",
    "        return pd.DataFrame(monitoring)"
   ]
  },
  {
   "cell_type": "markdown",
   "metadata": {},
   "source": [
    "## Train ANN"
   ]
  },
  {
   "cell_type": "code",
   "execution_count": 11,
   "metadata": {},
   "outputs": [
    {
     "name": "stdout",
     "output_type": "stream",
     "text": [
      "(784, 200)\n",
      "(200, 10)\n"
     ]
    },
    {
     "data": {
      "text/html": [
       "<div>\n",
       "<style scoped>\n",
       "    .dataframe tbody tr th:only-of-type {\n",
       "        vertical-align: middle;\n",
       "    }\n",
       "\n",
       "    .dataframe tbody tr th {\n",
       "        vertical-align: top;\n",
       "    }\n",
       "\n",
       "    .dataframe thead th {\n",
       "        text-align: right;\n",
       "    }\n",
       "</style>\n",
       "<table border=\"1\" class=\"dataframe\">\n",
       "  <thead>\n",
       "    <tr style=\"text-align: right;\">\n",
       "      <th></th>\n",
       "      <th>mean_squared_error</th>\n",
       "      <th>accuracy</th>\n",
       "    </tr>\n",
       "  </thead>\n",
       "  <tbody>\n",
       "    <tr>\n",
       "      <th>0</th>\n",
       "      <td>0.041305</td>\n",
       "      <td>0.261333</td>\n",
       "    </tr>\n",
       "    <tr>\n",
       "      <th>1</th>\n",
       "      <td>0.037684</td>\n",
       "      <td>0.413333</td>\n",
       "    </tr>\n",
       "    <tr>\n",
       "      <th>2</th>\n",
       "      <td>0.032928</td>\n",
       "      <td>0.566667</td>\n",
       "    </tr>\n",
       "    <tr>\n",
       "      <th>3</th>\n",
       "      <td>0.028472</td>\n",
       "      <td>0.638000</td>\n",
       "    </tr>\n",
       "    <tr>\n",
       "      <th>4</th>\n",
       "      <td>0.024884</td>\n",
       "      <td>0.702667</td>\n",
       "    </tr>\n",
       "    <tr>\n",
       "      <th>5</th>\n",
       "      <td>0.022115</td>\n",
       "      <td>0.763333</td>\n",
       "    </tr>\n",
       "    <tr>\n",
       "      <th>6</th>\n",
       "      <td>0.019913</td>\n",
       "      <td>0.811333</td>\n",
       "    </tr>\n",
       "    <tr>\n",
       "      <th>7</th>\n",
       "      <td>0.018117</td>\n",
       "      <td>0.840667</td>\n",
       "    </tr>\n",
       "    <tr>\n",
       "      <th>8</th>\n",
       "      <td>0.016636</td>\n",
       "      <td>0.856000</td>\n",
       "    </tr>\n",
       "    <tr>\n",
       "      <th>9</th>\n",
       "      <td>0.015409</td>\n",
       "      <td>0.862667</td>\n",
       "    </tr>\n",
       "  </tbody>\n",
       "</table>\n",
       "</div>"
      ],
      "text/plain": [
       "   mean_squared_error  accuracy\n",
       "0            0.041305  0.261333\n",
       "1            0.037684  0.413333\n",
       "2            0.032928  0.566667\n",
       "3            0.028472  0.638000\n",
       "4            0.024884  0.702667\n",
       "5            0.022115  0.763333\n",
       "6            0.019913  0.811333\n",
       "7            0.018117  0.840667\n",
       "8            0.016636  0.856000\n",
       "9            0.015409  0.862667"
      ]
     },
     "execution_count": 11,
     "metadata": {},
     "output_type": "execute_result"
    }
   ],
   "source": [
    "np.random.seed(42)\n",
    "\n",
    "# set other hyperparameters\n",
    "batch_size = 20\n",
    "epochs = 10\n",
    "lr = 0.3\n",
    "\n",
    "# configure the layers\n",
    "hidden = Layer_Dense(784,200)\n",
    "output = Layer_Dense(200,10)\n",
    "\n",
    "# create an ANN model\n",
    "ann = ANN(output, hidden, batch_size)\n",
    "\n",
    "# train the ANN model with training data\n",
    "train_performance = ann.train(X_train, y_train, epochs, lr)\n",
    "\n",
    "train_performance"
   ]
  },
  {
   "cell_type": "markdown",
   "metadata": {},
   "source": [
    "## Plot Model error and accuracy"
   ]
  },
  {
   "cell_type": "code",
   "execution_count": 12,
   "metadata": {},
   "outputs": [
    {
     "data": {
      "text/plain": [
       "<AxesSubplot:title={'center':'Accuracy'}>"
      ]
     },
     "execution_count": 12,
     "metadata": {},
     "output_type": "execute_result"
    },
    {
     "data": {
      "image/png": "[encoded data removed]",
      "text/plain": [
       "<Figure size 1080x360 with 2 Axes>"
      ]
     },
     "metadata": {},
     "output_type": "display_data"
    }
   ],
   "source": [
    "fig, axes = plt.subplots(1, 2, figsize=(15,5))\n",
    "train_performance.mean_squared_error.plot(ax=axes[0], title=\"Mean Squared Error\")\n",
    "\n",
    "train_performance.accuracy.plot(ax=axes[1], title=\"Accuracy\") \n",
    "#plt.savefig('train_performance.png', dpi=300) # uncomment to save this plot"
   ]
  },
  {
   "cell_type": "markdown",
   "metadata": {},
   "source": [
    "## Perfomance on test data"
   ]
  },
  {
   "cell_type": "code",
   "execution_count": 13,
   "metadata": {},
   "outputs": [
    {
     "name": "stdout",
     "output_type": "stream",
     "text": [
      "(100, 784)\n",
      "(100, 10)\n"
     ]
    },
    {
     "data": {
      "text/html": [
       "<div>\n",
       "<style scoped>\n",
       "    .dataframe tbody tr th:only-of-type {\n",
       "        vertical-align: middle;\n",
       "    }\n",
       "\n",
       "    .dataframe tbody tr th {\n",
       "        vertical-align: top;\n",
       "    }\n",
       "\n",
       "    .dataframe thead th {\n",
       "        text-align: right;\n",
       "    }\n",
       "</style>\n",
       "<table border=\"1\" class=\"dataframe\">\n",
       "  <thead>\n",
       "    <tr style=\"text-align: right;\">\n",
       "      <th></th>\n",
       "      <th>mean_squared_error</th>\n",
       "      <th>accuracy</th>\n",
       "    </tr>\n",
       "  </thead>\n",
       "  <tbody>\n",
       "    <tr>\n",
       "      <th>0</th>\n",
       "      <td>0.015389</td>\n",
       "      <td>0.85</td>\n",
       "    </tr>\n",
       "  </tbody>\n",
       "</table>\n",
       "</div>"
      ],
      "text/plain": [
       "   mean_squared_error  accuracy\n",
       "0            0.015389      0.85"
      ]
     },
     "execution_count": 13,
     "metadata": {},
     "output_type": "execute_result"
    }
   ],
   "source": [
    "print(X_test.shape)\n",
    "print(y_test.shape)\n",
    "test_performance = ann.test(X_test, y_test)\n",
    "test_performance"
   ]
  },
  {
   "cell_type": "markdown",
   "metadata": {},
   "source": [
    "## Modifying Hyperparameters"
   ]
  },
  {
   "cell_type": "markdown",
   "metadata": {},
   "source": [
    "#### Epochs"
   ]
  },
  {
   "cell_type": "code",
   "execution_count": null,
   "metadata": {},
   "outputs": [],
   "source": [
    "np.random.seed(42)\n",
    "\n",
    "# set other hyperparameters\n",
    "batch_size = [1, 10, 20, 40, 100]\n",
    "epochs = 10\n",
    "lr = 0.3\n",
    "\n",
    "batch_accuracies = []\n",
    "\n",
    "for sizes in batch_size:\n",
    "    # configure the layers\n",
    "    hidden = Layer_Dense(784,200)\n",
    "    output = Layer_Dense(200,10)\n",
    "\n",
    "    # create an ANN model\n",
    "    ann = ANN(output, hidden, batch_size)\n",
    "\n",
    "    # train the ANN model with training data\n",
    "    train_performance = ann.train(X_train, y_train, epochs, lr)\n",
    "    train_performance\n",
    "\n",
    "\n"
   ]
  },
  {
   "cell_type": "markdown",
   "metadata": {},
   "source": [
    "## Exploring DIfferent values of a hyperparamater"
   ]
  },
  {
   "cell_type": "code",
   "execution_count": 20,
   "metadata": {},
   "outputs": [
    {
     "name": "stdout",
     "output_type": "stream",
     "text": [
      "This will take a lot of moments ...\n",
      "(784, 200)\n",
      "(200, 10)\n",
      "(784, 200)\n",
      "(200, 10)\n",
      "(784, 200)\n",
      "(200, 10)\n",
      "(784, 200)\n",
      "(200, 10)\n",
      "(784, 200)\n",
      "(200, 10)\n",
      "(784, 200)\n",
      "(200, 10)\n",
      "(784, 200)\n",
      "(200, 10)\n",
      "(784, 200)\n",
      "(200, 10)\n",
      "(784, 200)\n",
      "(200, 10)\n",
      "(784, 200)\n",
      "(200, 10)\n",
      "(784, 200)\n",
      "(200, 10)\n",
      "(784, 200)\n",
      "(200, 10)\n",
      "(784, 200)\n",
      "(200, 10)\n",
      "(784, 200)\n",
      "(200, 10)\n",
      "(784, 200)\n",
      "(200, 10)\n",
      "(784, 200)\n",
      "(200, 10)\n",
      "(784, 200)\n",
      "(200, 10)\n",
      "completed\n"
     ]
    }
   ],
   "source": [
    "print(\"This will take a lot of moments ...\")\n",
    "ann_list = []\n",
    "ann_epochs = []\n",
    "ann_lr = []\n",
    "train_results_list = []\n",
    "epochs = [1, 10, 20, 30, 60, 100]\n",
    "learning_rates = [0.1, 0.3, 0.5, 0.7, 1]\n",
    "batch_sizes = [1, 20, 100, 200, 500, len(X_train)]\n",
    "\n",
    "\n",
    "for batch_size in batch_sizes:\n",
    "    # configure the layers\n",
    "    hidden_layer = Layer_Dense(784,200)\n",
    "    output_layer = Layer_Dense(200,10)\n",
    "\n",
    "    # create an ANN model\n",
    "    ann = ANN(output_layer, hidden_layer, batch_size) # create a new ANN model with a specific batch size\n",
    "    train_performance = ann.train(X_train, y_train, epochs=20, lr=0.3) # train the model\n",
    "\n",
    "    train_results_list.append(train_performance)\n",
    "    ann_list.append(ann) # maintain each ANN model in a list\n",
    "    \n",
    "for epoch in epochs:\n",
    "    # configure the layers\n",
    "    hidden_layer = Layer_Dense(784,200)\n",
    "    output_layer = Layer_Dense(200,10)\n",
    "\n",
    "    # create an ANN model\n",
    "    ann = ANN(output_layer, hidden_layer, 20) # create a new ANN model with a specific epoch\n",
    "    train_performance = ann.train(X_train, y_train, epochs=epoch, lr=0.3) # train the model\n",
    "\n",
    "    train_results_list.append(train_performance)\n",
    "    ann_epochs.append(ann) # maintain each ANN model in a list\n",
    "    \n",
    "for learning_rate in learning_rates:\n",
    "    # configure the layers\n",
    "    hidden_layer = Layer_Dense(784,200)\n",
    "    output_layer = Layer_Dense(200,10)\n",
    "\n",
    "    # create an ANN model\n",
    "    ann = ANN(output_layer, hidden_layer, 20) # create a new ANN model with a specific learning rate\n",
    "    train_performance = ann.train(X_train, y_train, epochs=20, lr=learning_rate) # train the model\n",
    "\n",
    "    train_results_list.append(train_performance)\n",
    "    ann_lr.append(ann) # maintain each ANN model in a list\n",
    "\n",
    "    \n",
    "print('completed')"
   ]
  },
  {
   "cell_type": "markdown",
   "metadata": {},
   "source": [
    "## Gather Results for each ANN Analysis"
   ]
  },
  {
   "cell_type": "markdown",
   "metadata": {},
   "source": [
    "### Batch Sizes"
   ]
  },
  {
   "cell_type": "code",
   "execution_count": 36,
   "metadata": {},
   "outputs": [
    {
     "name": "stdout",
     "output_type": "stream",
     "text": [
      "Batch Size Mean Squared Error and Accuracy Results \n",
      " [(0.005961326713288951, 0.91), (0.010613642023635976, 0.9), (0.02777806742217028, 0.75), (0.036435742123484605, 0.48), (0.041451512386853066, 0.39), (0.04247694844136031, 0.33)]\n"
     ]
    },
    {
     "data": {
      "text/html": [
       "<div>\n",
       "<style scoped>\n",
       "    .dataframe tbody tr th:only-of-type {\n",
       "        vertical-align: middle;\n",
       "    }\n",
       "\n",
       "    .dataframe tbody tr th {\n",
       "        vertical-align: top;\n",
       "    }\n",
       "\n",
       "    .dataframe thead th {\n",
       "        text-align: right;\n",
       "    }\n",
       "</style>\n",
       "<table border=\"1\" class=\"dataframe\">\n",
       "  <thead>\n",
       "    <tr style=\"text-align: right;\">\n",
       "      <th></th>\n",
       "      <th>mean_squared_error</th>\n",
       "      <th>accuracy</th>\n",
       "    </tr>\n",
       "  </thead>\n",
       "  <tbody>\n",
       "    <tr>\n",
       "      <th>1</th>\n",
       "      <td>0.005961</td>\n",
       "      <td>0.91</td>\n",
       "    </tr>\n",
       "    <tr>\n",
       "      <th>20</th>\n",
       "      <td>0.010614</td>\n",
       "      <td>0.90</td>\n",
       "    </tr>\n",
       "    <tr>\n",
       "      <th>100</th>\n",
       "      <td>0.027778</td>\n",
       "      <td>0.75</td>\n",
       "    </tr>\n",
       "    <tr>\n",
       "      <th>200</th>\n",
       "      <td>0.036436</td>\n",
       "      <td>0.48</td>\n",
       "    </tr>\n",
       "    <tr>\n",
       "      <th>500</th>\n",
       "      <td>0.041452</td>\n",
       "      <td>0.39</td>\n",
       "    </tr>\n",
       "  </tbody>\n",
       "</table>\n",
       "</div>"
      ],
      "text/plain": [
       "     mean_squared_error  accuracy\n",
       "1              0.005961      0.91\n",
       "20             0.010614      0.90\n",
       "100            0.027778      0.75\n",
       "200            0.036436      0.48\n",
       "500            0.041452      0.39"
      ]
     },
     "execution_count": 36,
     "metadata": {},
     "output_type": "execute_result"
    }
   ],
   "source": [
    "test_results_list = []\n",
    "\n",
    "for model in ann_list: \n",
    "    df_test_result = model.test(X_test, y_test)\n",
    "    mse=df_test_result['mean_squared_error'].values\n",
    "    acc=df_test_result['accuracy'].values\n",
    "\n",
    "    test_results_list.append((mse[0], acc[0]))\n",
    "\n",
    "    pass\n",
    "pass\n",
    "\n",
    "print (\"Batch Size Mean Squared Error and Accuracy Results \\n {}\".format(test_results_list))\n",
    "\n",
    "df_batch_results = pd.DataFrame(test_results_list, columns=['mean_squared_error','accuracy'], index=batch_sizes)\n",
    "df_batch_results.head()"
   ]
  },
  {
   "cell_type": "markdown",
   "metadata": {},
   "source": [
    "### Epochs"
   ]
  },
  {
   "cell_type": "code",
   "execution_count": 37,
   "metadata": {},
   "outputs": [
    {
     "name": "stdout",
     "output_type": "stream",
     "text": [
      "Epochs Mean Squared Error and Accuracy Results \n",
      " [(0.04161093110918696, 0.28), (0.015336784673219084, 0.85), (0.010599269721739937, 0.89), (0.009316743226206356, 0.9), (0.007577996234570887, 0.9), (0.006548247574895097, 0.93)]\n"
     ]
    },
    {
     "data": {
      "text/html": [
       "<div>\n",
       "<style scoped>\n",
       "    .dataframe tbody tr th:only-of-type {\n",
       "        vertical-align: middle;\n",
       "    }\n",
       "\n",
       "    .dataframe tbody tr th {\n",
       "        vertical-align: top;\n",
       "    }\n",
       "\n",
       "    .dataframe thead th {\n",
       "        text-align: right;\n",
       "    }\n",
       "</style>\n",
       "<table border=\"1\" class=\"dataframe\">\n",
       "  <thead>\n",
       "    <tr style=\"text-align: right;\">\n",
       "      <th></th>\n",
       "      <th>mean_squared_error</th>\n",
       "      <th>accuracy</th>\n",
       "    </tr>\n",
       "  </thead>\n",
       "  <tbody>\n",
       "    <tr>\n",
       "      <th>1</th>\n",
       "      <td>0.041611</td>\n",
       "      <td>0.28</td>\n",
       "    </tr>\n",
       "    <tr>\n",
       "      <th>10</th>\n",
       "      <td>0.015337</td>\n",
       "      <td>0.85</td>\n",
       "    </tr>\n",
       "    <tr>\n",
       "      <th>20</th>\n",
       "      <td>0.010599</td>\n",
       "      <td>0.89</td>\n",
       "    </tr>\n",
       "    <tr>\n",
       "      <th>30</th>\n",
       "      <td>0.009317</td>\n",
       "      <td>0.90</td>\n",
       "    </tr>\n",
       "    <tr>\n",
       "      <th>60</th>\n",
       "      <td>0.007578</td>\n",
       "      <td>0.90</td>\n",
       "    </tr>\n",
       "  </tbody>\n",
       "</table>\n",
       "</div>"
      ],
      "text/plain": [
       "    mean_squared_error  accuracy\n",
       "1             0.041611      0.28\n",
       "10            0.015337      0.85\n",
       "20            0.010599      0.89\n",
       "30            0.009317      0.90\n",
       "60            0.007578      0.90"
      ]
     },
     "execution_count": 37,
     "metadata": {},
     "output_type": "execute_result"
    }
   ],
   "source": [
    "test_results_list_epochs = []\n",
    "\n",
    "for model in ann_epochs: \n",
    "    df_test_result = model.test(X_test, y_test)\n",
    "    mse=df_test_result['mean_squared_error'].values\n",
    "    acc=df_test_result['accuracy'].values\n",
    "\n",
    "    test_results_list_epochs.append((mse[0], acc[0]))\n",
    "\n",
    "    pass\n",
    "pass\n",
    "\n",
    "print (\"Epochs Mean Squared Error and Accuracy Results \\n {}\".format(test_results_list_epochs))\n",
    "\n",
    "df_batch_results = pd.DataFrame(test_results_list_epochs, columns=['mean_squared_error','accuracy'], index=epochs)\n",
    "df_batch_results.head()"
   ]
  },
  {
   "cell_type": "markdown",
   "metadata": {},
   "source": [
    "### Learning rates"
   ]
  },
  {
   "cell_type": "code",
   "execution_count": 38,
   "metadata": {},
   "outputs": [
    {
     "name": "stdout",
     "output_type": "stream",
     "text": [
      "Learning Rate Mean Squared Error and Accuracy Results \n",
      " [(0.01968501389430905, 0.81), (0.010609263794293658, 0.89), (0.009210905333060989, 0.89), (0.008305828278778083, 0.9), (0.007421544655755668, 0.91)]\n"
     ]
    },
    {
     "data": {
      "text/html": [
       "<div>\n",
       "<style scoped>\n",
       "    .dataframe tbody tr th:only-of-type {\n",
       "        vertical-align: middle;\n",
       "    }\n",
       "\n",
       "    .dataframe tbody tr th {\n",
       "        vertical-align: top;\n",
       "    }\n",
       "\n",
       "    .dataframe thead th {\n",
       "        text-align: right;\n",
       "    }\n",
       "</style>\n",
       "<table border=\"1\" class=\"dataframe\">\n",
       "  <thead>\n",
       "    <tr style=\"text-align: right;\">\n",
       "      <th></th>\n",
       "      <th>mean_squared_error</th>\n",
       "      <th>accuracy</th>\n",
       "    </tr>\n",
       "  </thead>\n",
       "  <tbody>\n",
       "    <tr>\n",
       "      <th>0.1</th>\n",
       "      <td>0.019685</td>\n",
       "      <td>0.81</td>\n",
       "    </tr>\n",
       "    <tr>\n",
       "      <th>0.3</th>\n",
       "      <td>0.010609</td>\n",
       "      <td>0.89</td>\n",
       "    </tr>\n",
       "    <tr>\n",
       "      <th>0.5</th>\n",
       "      <td>0.009211</td>\n",
       "      <td>0.89</td>\n",
       "    </tr>\n",
       "    <tr>\n",
       "      <th>0.7</th>\n",
       "      <td>0.008306</td>\n",
       "      <td>0.90</td>\n",
       "    </tr>\n",
       "    <tr>\n",
       "      <th>1.0</th>\n",
       "      <td>0.007422</td>\n",
       "      <td>0.91</td>\n",
       "    </tr>\n",
       "  </tbody>\n",
       "</table>\n",
       "</div>"
      ],
      "text/plain": [
       "     mean_squared_error  accuracy\n",
       "0.1            0.019685      0.81\n",
       "0.3            0.010609      0.89\n",
       "0.5            0.009211      0.89\n",
       "0.7            0.008306      0.90\n",
       "1.0            0.007422      0.91"
      ]
     },
     "execution_count": 38,
     "metadata": {},
     "output_type": "execute_result"
    }
   ],
   "source": [
    "test_results_list_lr = []\n",
    "\n",
    "for model in ann_lr: \n",
    "    df_test_result = model.test(X_test, y_test)\n",
    "    mse=df_test_result['mean_squared_error'].values\n",
    "    acc=df_test_result['accuracy'].values\n",
    "\n",
    "    test_results_list_lr.append((mse[0], acc[0]))\n",
    "\n",
    "    pass\n",
    "pass\n",
    "\n",
    "print (\"Learning Rate Mean Squared Error and Accuracy Results \\n {}\".format(test_results_list_lr))\n",
    "\n",
    "df_batch_results = pd.DataFrame(test_results_list_lr, columns=['mean_squared_error','accuracy'], index=learning_rates)\n",
    "df_batch_results.head()"
   ]
  },
  {
   "cell_type": "markdown",
   "metadata": {},
   "source": [
    "## Create Bar charts to analyse impact of hyperparameters"
   ]
  },
  {
   "cell_type": "markdown",
   "metadata": {},
   "source": [
    "#### Batch Size"
   ]
  },
  {
   "cell_type": "code",
   "execution_count": 39,
   "metadata": {},
   "outputs": [
    {
     "data": {
      "text/plain": [
       "Text(0.5, 1.0, 'Accuracy')"
      ]
     },
     "execution_count": 39,
     "metadata": {},
     "output_type": "execute_result"
    },
    {
     "data": {
      "image/png": "[encoded data removed]",
      "text/plain": [
       "<Figure size 1080x360 with 2 Axes>"
      ]
     },
     "metadata": {},
     "output_type": "display_data"
    }
   ],
   "source": [
    "objects = batch_sizes\n",
    "performance = test_results_list\n",
    "\n",
    "# plot performances bars\n",
    "fig, axes = plt.subplots(1, 2, figsize=(15,5))\n",
    "y_pos = np.arange(len(objects))\n",
    "# get mean squared error from performance\n",
    "model_mse = [x[0] for x in performance]\n",
    "axes[0].bar(y_pos, model_mse, align='center', alpha=0.5)\n",
    "axes[0].set_xticks(y_pos)\n",
    "axes[0].set_xticklabels(objects)\n",
    "axes[0].set_xlabel('Batch size')\n",
    "axes[0].set_title('Mean Squared Error')\n",
    "\n",
    "# plot accuracy from performance\n",
    "model_acc = [x[1] for x in performance]\n",
    "axes[1].bar(y_pos, model_acc, align='center', alpha=0.5)\n",
    "axes[1].set_xticks(y_pos)\n",
    "axes[1].set_xticklabels(objects)\n",
    "axes[1].set_xlabel('Batch size')\n",
    "axes[1].set_title('Accuracy')"
   ]
  },
  {
   "cell_type": "markdown",
   "metadata": {},
   "source": [
    "#### Epochs"
   ]
  },
  {
   "cell_type": "code",
   "execution_count": 40,
   "metadata": {},
   "outputs": [
    {
     "data": {
      "text/plain": [
       "Text(0.5, 1.0, 'Accuracy')"
      ]
     },
     "execution_count": 40,
     "metadata": {},
     "output_type": "execute_result"
    },
    {
     "data": {
      "image/png": "[encoded data removed]",
      "text/plain": [
       "<Figure size 1080x360 with 2 Axes>"
      ]
     },
     "metadata": {},
     "output_type": "display_data"
    }
   ],
   "source": [
    "objects = epochs\n",
    "performance = test_results_list_epochs\n",
    "\n",
    "# plot performances bars\n",
    "fig, axes = plt.subplots(1, 2, figsize=(15,5))\n",
    "y_pos = np.arange(len(objects))\n",
    "# get mean squared error from performance\n",
    "model_mse = [x[0] for x in performance]\n",
    "axes[0].bar(y_pos, model_mse, align='center', alpha=0.5)\n",
    "axes[0].set_xticks(y_pos)\n",
    "axes[0].set_xticklabels(objects)\n",
    "axes[0].set_xlabel('Epochs')\n",
    "axes[0].set_title('Mean Squared Error')\n",
    "\n",
    "# plot accuracy from performance\n",
    "model_acc = [x[1] for x in performance]\n",
    "axes[1].bar(y_pos, model_acc, align='center', alpha=0.5)\n",
    "axes[1].set_xticks(y_pos)\n",
    "axes[1].set_xticklabels(objects)\n",
    "axes[1].set_xlabel('Epochs')\n",
    "axes[1].set_title('Accuracy')"
   ]
  },
  {
   "cell_type": "markdown",
   "metadata": {},
   "source": [
    "#### Learning Rates"
   ]
  },
  {
   "cell_type": "code",
   "execution_count": 41,
   "metadata": {},
   "outputs": [
    {
     "data": {
      "text/plain": [
       "Text(0.5, 1.0, 'Accuracy')"
      ]
     },
     "execution_count": 41,
     "metadata": {},
     "output_type": "execute_result"
    },
    {
     "data": {
      "image/png": "[encoded data removed]",
      "text/plain": [
       "<Figure size 1080x360 with 2 Axes>"
      ]
     },
     "metadata": {},
     "output_type": "display_data"
    }
   ],
   "source": [
    "objects = learning_rates\n",
    "performance = test_results_list_lr\n",
    "\n",
    "# plot performances bars\n",
    "fig, axes = plt.subplots(1, 2, figsize=(15,5))\n",
    "y_pos = np.arange(len(objects))\n",
    "# get mean squared error from performance\n",
    "model_mse = [x[0] for x in performance]\n",
    "axes[0].bar(y_pos, model_mse, align='center', alpha=0.5)\n",
    "axes[0].set_xticks(y_pos)\n",
    "axes[0].set_xticklabels(objects)\n",
    "axes[0].set_xlabel('Learning Rate')\n",
    "axes[0].set_title('Mean Squared Error')\n",
    "\n",
    "# plot accuracy from performance\n",
    "model_acc = [x[1] for x in performance]\n",
    "axes[1].bar(y_pos, model_acc, align='center', alpha=0.5)\n",
    "axes[1].set_xticks(y_pos)\n",
    "axes[1].set_xticklabels(objects)\n",
    "axes[1].set_xlabel('Learning Rate')\n",
    "axes[1].set_title('Accuracy')"
   ]
  },
  {
   "cell_type": "markdown",
   "metadata": {},
   "source": [
    "## Study the Impact of varying two hyper paramaters"
   ]
  },
  {
   "cell_type": "code",
   "execution_count": 18,
   "metadata": {},
   "outputs": [
    {
     "name": "stdout",
     "output_type": "stream",
     "text": [
      "Percentage of training data used:  2.5\n",
      "This will take a few moments ...\n",
      "(784, 200)\n",
      "(200, 10)\n",
      "(784, 200)\n",
      "(200, 10)\n",
      "(784, 200)\n",
      "(200, 10)\n",
      "(784, 200)\n",
      "(200, 10)\n",
      "(784, 200)\n",
      "(200, 10)\n",
      "(784, 200)\n",
      "(200, 10)\n",
      "(784, 5)\n",
      "(5, 10)\n",
      "(784, 5)\n",
      "(5, 10)\n",
      "(784, 5)\n",
      "(5, 10)\n",
      "(784, 5)\n",
      "(5, 10)\n",
      "(784, 5)\n",
      "(5, 10)\n",
      "(784, 5)\n",
      "(5, 10)\n",
      "completed\n"
     ]
    }
   ],
   "source": [
    "# Try different configurations of hidden layer and batch size\n",
    "print(\"Percentage of training data used: \", (len(y_train)/len(y_train_all)) * 100)\n",
    "\n",
    "print(\"This will take a few moments ...\")\n",
    "train_results_list = []\n",
    "ann_list = []\n",
    "batch_sizes = [1, 20, 100, 200, 500, len(y_train)]  # lets try six different configurations of batch sizes\n",
    "hidden_nodes = [200, 5]  # two different configurations of hidden node layer\n",
    "\n",
    "# lets create the set of modesl\n",
    "for hidden in hidden_nodes:\n",
    "    ann_list_element = [] # first set of nets with a given hidden node size\n",
    "    for batch in batch_sizes:\n",
    "        # configure the layers\n",
    "        hidden_layer = Layer_Dense(784, hidden)\n",
    "        output_layer = Layer_Dense(hidden, 10)\n",
    "        ann_ = ANN(output_layer, hidden_layer, batch) # create a new ANN model with a specific batch size\n",
    "        train_performance = ann_.train(X_train, y_train, epochs=20, lr=0.3) # train the model\n",
    "\n",
    "        train_results_list.append(train_performance)\n",
    "        ann_list_element.append(ann_) # maintain each ANN model in a list\n",
    " \n",
    "        pass\n",
    "    \n",
    "    ann_list.append(ann_list_element)# now append the set of models \n",
    "    pass\n",
    "\n",
    "#lets test the models \n",
    "model_results = []\n",
    "model_result_element = []\n",
    "\n",
    "for model1 in ann_list:\n",
    "    model_result_element = []\n",
    "    \n",
    "    for model2 in model1:\n",
    "        df_test_result = model2.test(X_test, y_test)\n",
    "        mse=df_test_result['mean_squared_error'].values\n",
    "        acc=df_test_result['accuracy'].values\n",
    "\n",
    "        model_result_element.append((mse[0], acc[0]))\n",
    "        pass\n",
    "    model_results.append(model_result_element)\n",
    "    pass\n",
    "\n",
    "print('completed')"
   ]
  },
  {
   "cell_type": "markdown",
   "metadata": {},
   "source": [
    "## Plot the results of hidden nodes vs batch size"
   ]
  },
  {
   "cell_type": "code",
   "execution_count": 19,
   "metadata": {},
   "outputs": [
    {
     "data": {
      "text/plain": [
       "Text(0.5, 1.0, 'Mean Squared Average')"
      ]
     },
     "execution_count": 19,
     "metadata": {},
     "output_type": "execute_result"
    },
    {
     "data": {
      "image/png": "[encoded data removed]",
      "text/plain": [
       "<Figure size 1080x360 with 2 Axes>"
      ]
     },
     "metadata": {},
     "output_type": "display_data"
    }
   ],
   "source": [
    "objects = batch_sizes\n",
    "\n",
    "fig, axes = plt.subplots(1, 2, figsize=(15,5))\n",
    "\n",
    "for result in model_results:\n",
    "    performance_mse = [x[0] for x in result]  # mean squared error\n",
    "    performance_acc = [x[1] for x in result]  # accuracy\n",
    "    axes[0].bar(y_pos, performance_acc, align='center', alpha=0.5 )  # add accuracy to plot\n",
    "    axes[1].bar(y_pos, performance_mse, align='center', alpha=0.5 )  #  add mean squared error to plot\n",
    "\n",
    "y_pos = np.arange(len(objects))\n",
    "axes[0].legend(hidden_nodes)\n",
    "axes[0].set_xticks(y_pos)\n",
    "axes[0].set_xticklabels(objects)\n",
    "axes[0].set_xlabel('Batch size')\n",
    "axes[0].set_title('Accuracy')\n",
    "\n",
    "axes[1].legend(hidden_nodes)\n",
    "axes[1].set_xticks(y_pos)\n",
    "axes[1].set_xticklabels(objects)\n",
    "axes[1].set_xlabel('Batch size')\n",
    "axes[1].set_title('Mean Squared Average')"
   ]
  },
  {
   "cell_type": "code",
   "execution_count": null,
   "metadata": {},
   "outputs": [],
   "source": []
  }
 ],
 "metadata": {
  "kernelspec": {
   "display_name": "Python 3",
   "language": "python",
   "name": "python3"
  },
  "language_info": {
   "codemirror_mode": {
    "name": "ipython",
    "version": 3
   },
   "file_extension": ".py",
   "mimetype": "text/x-python",
   "name": "python",
   "nbconvert_exporter": "python",
   "pygments_lexer": "ipython3",
   "version": "3.8.3"
  }
 },
 "nbformat": 4,
 "nbformat_minor": 4
}
