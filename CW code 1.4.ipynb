{
 "cells": [
  {
   "cell_type": "markdown",
   "metadata": {},
   "source": [
    "# 1.4 - Testing Handwriting"
   ]
  },
  {
   "cell_type": "markdown",
   "metadata": {},
   "source": [
    "## Imports"
   ]
  },
  {
   "cell_type": "code",
   "execution_count": 1,
   "metadata": {},
   "outputs": [],
   "source": [
    "%matplotlib inline\n",
    "import numpy as np\n",
    "#for the sigmoid function we need expit() from scipy\n",
    "import scipy.special\n",
    "#library for plotting arrays\n",
    "import matplotlib.pyplot as plt\n",
    "# A particularly interesting backend, provided by IPython, is the inline backend. \n",
    "# This is available only for the Jupyter Notebook and the Jupyter QtConsole. \n",
    "# It can be invoked as follows: %matplotlib inline\n",
    "# With this backend, the output of plotting commands is displayed inline \n",
    "# within frontends like the Jupyter notebook, directly below the code cell that produced it. \n",
    "# The resulting plots are inside this notebook, not an external window.\n",
    "import glob\n",
    "\n",
    "import imageio\n",
    "\n",
    "import pandas as pd # to manage data frames and reading csv files\n",
    "\n",
    "import operator"
   ]
  },
  {
   "cell_type": "markdown",
   "metadata": {},
   "source": [
    "## Global Variables"
   ]
  },
  {
   "cell_type": "code",
   "execution_count": 2,
   "metadata": {},
   "outputs": [],
   "source": [
    "#number of input, hidden and output nodes\n",
    "input_nodes = 784 #we have a 28x28 matrix to describe each digit\n",
    "hidden_nodes = 250\n",
    "output_nodes = 10\n",
    "\n",
    "learning_rate = 0.2\n",
    "batch_size = 3 # increase this if you want batch gradient descent\n",
    "\n",
    "# epochs is the number of training iterations \n",
    "epochs = 20\n",
    "\n",
    "# datasets to read\n",
    "# you can change these when trying out other datasets\n",
    "train_file = \"mnist_train.csv\"\n",
    "test_file = \"mnist_test.csv\""
   ]
  },
  {
   "cell_type": "markdown",
   "metadata": {},
   "source": [
    "## Helpers"
   ]
  },
  {
   "cell_type": "markdown",
   "metadata": {},
   "source": [
    "### Activations"
   ]
  },
  {
   "cell_type": "code",
   "execution_count": 3,
   "metadata": {},
   "outputs": [],
   "source": [
    "class Activation_ReLU:\n",
    "    def forward(self, inputs):\n",
    "        self.output = np.maximum(0, inputs)\n",
    "    def backward(self, inputs):\n",
    "        self.output = np.greater(inputs, 0).astype(int) # inputs > 0 then convert bools to int\n",
    "        \n",
    "class Activation_Sigmoid:\n",
    "    def forward(self, x):\n",
    "        return(1 / (1 + np.exp(-x)))\n",
    "    def backward(self, x):\n",
    "        return(x * ( 1 - x))"
   ]
  },
  {
   "cell_type": "markdown",
   "metadata": {},
   "source": [
    "### Evaluations"
   ]
  },
  {
   "cell_type": "code",
   "execution_count": 4,
   "metadata": {},
   "outputs": [],
   "source": [
    "def mean_squared_error(predictions, targets):\n",
    "    \"\"\"\n",
    "    Calculates mean squared error of a model's predictions.\n",
    "    \"\"\"\n",
    "    N=targets.size\n",
    "    mse = ((targets - predictions) **2).sum() / (2*N)\n",
    "    return mse\n",
    "\n",
    "\n",
    "def accuracy(predictions, targets):\n",
    "    \"\"\"\n",
    "    Calculates the accuracy of a model's predictions.\n",
    "    \"\"\"\n",
    "    prediction_labels = np.argmax(predictions, axis=1)\n",
    "    target_labels = np.argmax(targets, axis=1)\n",
    "    predictions_correct = (prediction_labels == target_labels.round())\n",
    "    accuracy = predictions_correct.mean()\n",
    "    return accuracy\n",
    "\n",
    "#Finally, we can test to see how many of the test instances we got correct\n",
    "def accuracyknn(results):\n",
    "    correct = 0\n",
    "    for predict, target in results:\n",
    "            \n",
    "        if predict == target:\n",
    "            correct += 1\n",
    "    return (correct/float(len(results))) * 100.0"
   ]
  },
  {
   "cell_type": "markdown",
   "metadata": {},
   "source": [
    "### Load MNIST Data"
   ]
  },
  {
   "cell_type": "code",
   "execution_count": 5,
   "metadata": {},
   "outputs": [],
   "source": [
    "#load the mnist training data CSV file into a frame\n",
    "df_orig_train = pd.read_csv(train_file, header=None)  # read entire train dataset\n",
    "df_orig_test = pd.read_csv(test_file, header=None)  # read entire test dataset\n",
    "#df_orig_train.info()"
   ]
  },
  {
   "cell_type": "markdown",
   "metadata": {},
   "source": [
    "### ANN"
   ]
  },
  {
   "cell_type": "code",
   "execution_count": 6,
   "metadata": {},
   "outputs": [
    {
     "name": "stdout",
     "output_type": "stream",
     "text": [
      "(60000, 10)\n",
      "(60000, 784)\n",
      "(10000, 10)\n",
      "(10000, 784)\n"
     ]
    }
   ],
   "source": [
    "y_train_all =  pd.get_dummies(df_orig_train[0]).values\n",
    "X_train_all = df_orig_train.drop(0, axis = 1).values\n",
    "print(y_train_all.shape)\n",
    "print(X_train_all.shape)\n",
    "\n",
    "y_test_all =  pd.get_dummies(df_orig_test[0]).values\n",
    "X_test_all = df_orig_test.drop(0, axis = 1).values\n",
    "print(y_test_all.shape)\n",
    "print(X_test_all.shape)"
   ]
  },
  {
   "cell_type": "markdown",
   "metadata": {},
   "source": [
    "### kNN"
   ]
  },
  {
   "cell_type": "code",
   "execution_count": 7,
   "metadata": {},
   "outputs": [
    {
     "name": "stdout",
     "output_type": "stream",
     "text": [
      "(60000,)\n",
      "(60000, 784)\n",
      "(10000,)\n",
      "(10000, 784)\n"
     ]
    }
   ],
   "source": [
    "kNN_y_train_all =  df_orig_train[0].values\n",
    "kNN_X_train_all = df_orig_train.drop(0, axis = 1).values\n",
    "print(kNN_y_train_all.shape)\n",
    "print(kNN_X_train_all.shape)\n",
    "\n",
    "kNN_y_test_all =  df_orig_test[0].values\n",
    "kNN_X_test_all = df_orig_test.drop(0, axis = 1).values\n",
    "print(kNN_y_test_all.shape)\n",
    "print(kNN_X_test_all.shape)"
   ]
  },
  {
   "cell_type": "markdown",
   "metadata": {},
   "source": [
    "### PreProcessors"
   ]
  },
  {
   "cell_type": "code",
   "execution_count": 8,
   "metadata": {},
   "outputs": [],
   "source": [
    "# Select smaller samples of the train and test datasets (will execute faster when training our networks than using the entire dataset)\n",
    "train_sample_size = 1500  # choosing a smaller sample instead of the entire dataset\n",
    "random_indices = np.random.choice(range(len(y_train_all)), train_sample_size, replace = False)"
   ]
  },
  {
   "cell_type": "markdown",
   "metadata": {},
   "source": [
    "### ANN"
   ]
  },
  {
   "cell_type": "code",
   "execution_count": 9,
   "metadata": {},
   "outputs": [
    {
     "name": "stdout",
     "output_type": "stream",
     "text": [
      "(1500, 10)\n",
      "(1500, 784)\n",
      "(1500, 10)\n",
      "(100, 10)\n",
      "(100, 784)\n",
      "(100, 10)\n",
      "(100, 784)\n"
     ]
    }
   ],
   "source": [
    "X_train = X_train_all[random_indices]\n",
    "y_train = y_train_all[random_indices]\n",
    "print(y_train.shape)\n",
    "print(X_train.shape)\n",
    "\n",
    "#preprocessing steps\n",
    "X_train = (X_train / 255.0 * 0.99) + 0.01\n",
    "y_train = y_train + 0.01\n",
    "y_train = np.where(y_train != 1.01, y_train, 0.99)\n",
    "print(y_train.shape)\n",
    "\n",
    "test_sample_size = 100 \n",
    "random_test_indices = np.random.choice(range(len(y_test_all)), test_sample_size, replace = False)\n",
    "X_test = X_test_all[random_test_indices]\n",
    "y_test = y_test_all[random_test_indices]\n",
    "print(y_test.shape)\n",
    "print(X_test.shape)\n",
    "\n",
    "X_test = (X_test / 255.0 * 0.99) + 0.01\n",
    "y_test = y_test + 0.01\n",
    "y_test = np.where(y_test != 1.01, y_test, 0.99)\n",
    "print(y_test.shape)\n",
    "print(X_test.shape)"
   ]
  },
  {
   "cell_type": "markdown",
   "metadata": {},
   "source": [
    "### kNN"
   ]
  },
  {
   "cell_type": "code",
   "execution_count": 10,
   "metadata": {},
   "outputs": [
    {
     "name": "stdout",
     "output_type": "stream",
     "text": [
      "(1500,)\n",
      "(1500, 784)\n",
      "(1500,)\n",
      "(100,)\n",
      "(100, 784)\n"
     ]
    }
   ],
   "source": [
    "kNN_X_train = kNN_X_train_all[random_indices]\n",
    "kNN_y_train = kNN_y_train_all[random_indices]\n",
    "print(kNN_y_train.shape)\n",
    "print(kNN_X_train.shape)\n",
    "\n",
    "#preprocessing steps\n",
    "kNN_X_train = (kNN_X_train / 255.0 * 0.99) + 0.01\n",
    "kNN_y_train = kNN_y_train\n",
    "print(kNN_y_train.shape)\n",
    "\n",
    "test_sample_size = 100 \n",
    "random_test_indices = np.random.choice(range(len(y_test_all)), test_sample_size, replace = False)\n",
    "kNN_X_test = kNN_X_test_all[random_test_indices]\n",
    "kNN_y_test = kNN_y_test_all[random_test_indices]\n",
    "print(kNN_y_test.shape)\n",
    "print(kNN_X_test.shape)\n",
    "\n",
    "kNN_X_test = (kNN_X_test / 255.0 * 0.99) + 0.01\n",
    "kNN_y_test = kNN_y_test"
   ]
  },
  {
   "cell_type": "markdown",
   "metadata": {},
   "source": [
    "## Import Custom Images"
   ]
  },
  {
   "cell_type": "code",
   "execution_count": 11,
   "metadata": {},
   "outputs": [],
   "source": [
    "def get_my_test_data(folder):\n",
    "    # our own image test data set\n",
    "    X = []\n",
    "    y = []\n",
    "    \n",
    "    # to read jpg change the regex to '/*.jpg'\n",
    "    folder_expr = folder + '/*.png'\n",
    "    print(folder_expr)\n",
    "\n",
    "    for image_file_name in glob.glob(folder_expr): \n",
    "        print (\"loading ... \", image_file_name)\n",
    "\n",
    "        # load image data from png files into an array\n",
    "        img_array = imageio.imread(image_file_name, as_gray=True)\n",
    "        # reshape from 28x28 to list of 784 values, invert values\n",
    "        img_data  = 255.0 - img_array.reshape(784)\n",
    "        # then scale data to range from 0.01 to 1.0\n",
    "        inputs = (img_data / 255.0 * 0.99) + 0.01\n",
    "        \n",
    "        # use the filename to set the correct label\n",
    "        digit_class = int(image_file_name[-5:-4]) #negative indices for indexing from the end of the array\n",
    "        \n",
    "        X.insert(len(X), inputs)\n",
    "        y.insert(len(y), digit_class)\n",
    "       \n",
    "        pass\n",
    "    return(X,y)\n",
    "pass"
   ]
  },
  {
   "cell_type": "code",
   "execution_count": 12,
   "metadata": {},
   "outputs": [
    {
     "name": "stdout",
     "output_type": "stream",
     "text": [
      "my_images/*.png\n",
      "loading ...  my_images\\b0.png\n",
      "loading ...  my_images\\b1.png\n",
      "loading ...  my_images\\b2.png\n",
      "loading ...  my_images\\b3.png\n",
      "loading ...  my_images\\b4.png\n",
      "loading ...  my_images\\b5.png\n",
      "loading ...  my_images\\b6.png\n",
      "loading ...  my_images\\b7.png\n",
      "loading ...  my_images\\b8.png\n",
      "loading ...  my_images\\b9.png\n",
      "loading ...  my_images\\c1.png\n",
      "loading ...  my_images\\c2.png\n",
      "loading ...  my_images\\c3.png\n",
      "loading ...  my_images\\c4.png\n",
      "loading ...  my_images\\c5.png\n",
      "loading ...  my_images\\c6.png\n",
      "loading ...  my_images\\c7.png\n",
      "loading ...  my_images\\c8.png\n",
      "loading ...  my_images\\c9.png\n",
      "loading ...  my_images\\n0.png\n",
      "loading ...  my_images\\n1.png\n",
      "loading ...  my_images\\n2.png\n",
      "loading ...  my_images\\n3.png\n",
      "loading ...  my_images\\n4.png\n",
      "loading ...  my_images\\n5.png\n",
      "loading ...  my_images\\n6.png\n",
      "loading ...  my_images\\n7.png\n",
      "loading ...  my_images\\n8.png\n",
      "loading ...  my_images\\n9.png\n"
     ]
    },
    {
     "data": {
      "text/plain": [
       "<matplotlib.image.AxesImage at 0x2c1690fdca0>"
      ]
     },
     "execution_count": 12,
     "metadata": {},
     "output_type": "execute_result"
    },
    {
     "data": {
      "image/png": "[encoded data removed]",
      "text/plain": [
       "<Figure size 432x288 with 1 Axes>"
      ]
     },
     "metadata": {
      "needs_background": "light"
     },
     "output_type": "display_data"
    }
   ],
   "source": [
    "X_my_test, y_my_test = get_my_test_data('my_images') # my_images is a subfolder in the current folder \n",
    "\n",
    "# lets plot one of the created images that was read into X_my_test\n",
    "# now reshape the 784 features into a 28x28 grid\n",
    "# here asfarray helps to convert values into real numbers\n",
    "image_array = np.asfarray(X_my_test[4]).flatten().reshape((28,28))\n",
    "\n",
    "# print the grid in grey scale\n",
    "plt.imshow(image_array, cmap='Greys', interpolation='None') "
   ]
  },
  {
   "cell_type": "markdown",
   "metadata": {},
   "source": [
    "## Duplicate and Convert for ANN"
   ]
  },
  {
   "cell_type": "code",
   "execution_count": 13,
   "metadata": {},
   "outputs": [
    {
     "name": "stdout",
     "output_type": "stream",
     "text": [
      "my_images/*.png\n",
      "loading ...  my_images\\b0.png\n",
      "loading ...  my_images\\b1.png\n",
      "loading ...  my_images\\b2.png\n",
      "loading ...  my_images\\b3.png\n",
      "loading ...  my_images\\b4.png\n",
      "loading ...  my_images\\b5.png\n",
      "loading ...  my_images\\b6.png\n",
      "loading ...  my_images\\b7.png\n",
      "loading ...  my_images\\b8.png\n",
      "loading ...  my_images\\b9.png\n",
      "loading ...  my_images\\c1.png\n",
      "loading ...  my_images\\c2.png\n",
      "loading ...  my_images\\c3.png\n",
      "loading ...  my_images\\c4.png\n",
      "loading ...  my_images\\c5.png\n",
      "loading ...  my_images\\c6.png\n",
      "loading ...  my_images\\c7.png\n",
      "loading ...  my_images\\c8.png\n",
      "loading ...  my_images\\c9.png\n",
      "loading ...  my_images\\n0.png\n",
      "loading ...  my_images\\n1.png\n",
      "loading ...  my_images\\n2.png\n",
      "loading ...  my_images\\n3.png\n",
      "loading ...  my_images\\n4.png\n",
      "loading ...  my_images\\n5.png\n",
      "loading ...  my_images\\n6.png\n",
      "loading ...  my_images\\n7.png\n",
      "loading ...  my_images\\n8.png\n",
      "loading ...  my_images\\n9.png\n"
     ]
    }
   ],
   "source": [
    "#MNIST dataset assume output_nodes = 10 for the ANN\n",
    "\n",
    "# converts the data to a format that the ANN class can use for training the model\n",
    "# this eseentially , maps a given target class label to an outputs vector (y_vec) thats compatible \n",
    "# with the ANN's output layer. \n",
    "\n",
    "#output_nodes = 10\n",
    "def map_target_to_output_layer(instances, targets):\n",
    "    X=[]\n",
    "    Y=[]\n",
    "    for inputs, target in zip(instances, targets):\n",
    "        # create the target output values (all 0.01, except the desired label which is 0.99)\n",
    "        y_vec = np.zeros(output_nodes) + 0.01\n",
    "        y_vec[int(target)] = 0.99\n",
    "        #print('output', target)\n",
    "        \n",
    "        X.insert(len(X), inputs) # simply inserting these they are already in the correct format\n",
    "        Y.insert(len(Y), y_vec) # inserting these after the vector mapping\n",
    "        #print(y_vec)\n",
    "    pass\n",
    "    return(X,Y)\n",
    "pass\n",
    "\n",
    "ann_X_my_test, ann_y_my_test = get_my_test_data('my_images')\n",
    "ann_X_my_test, ann_y_my_test = map_target_to_output_layer(ann_X_my_test, ann_y_my_test)"
   ]
  },
  {
   "cell_type": "code",
   "execution_count": 14,
   "metadata": {},
   "outputs": [
    {
     "data": {
      "text/plain": [
       "<matplotlib.image.AxesImage at 0x2c1691df0d0>"
      ]
     },
     "execution_count": 14,
     "metadata": {},
     "output_type": "execute_result"
    },
    {
     "data": {
      "image/png": "[encoded data removed]",
      "text/plain": [
       "<Figure size 432x288 with 1 Axes>"
      ]
     },
     "metadata": {
      "needs_background": "light"
     },
     "output_type": "display_data"
    }
   ],
   "source": [
    "image_array = np.asfarray(ann_X_my_test[1]).flatten().reshape((28,28))\n",
    "# print the grid in grey scale\n",
    "plt.imshow(image_array, cmap='Greys', interpolation='None') "
   ]
  },
  {
   "cell_type": "markdown",
   "metadata": {},
   "source": [
    "## Define Similarity Metrics"
   ]
  },
  {
   "cell_type": "code",
   "execution_count": 15,
   "metadata": {},
   "outputs": [],
   "source": [
    "#Within our class we now need code for each of the components of k-NN.\n",
    "#First, let's create a method that will measure the distance between two vectors.\n",
    "def euclidean(instance1, instance2):\n",
    "        '''\n",
    "        Calculates euclidean distance between two instances of data\n",
    "        instance1 will be a List of Float values\n",
    "        instance2 will be a List of Float values\n",
    "        length will be an Integer denoting the length of the Lists\n",
    "        '''\n",
    "        distance = 0\n",
    "        for val1, val2 in zip(instance1, instance2):            \n",
    "            distance += pow((val1 - val2), 2)\n",
    "        \n",
    "        distance = pow(distance, 1/2)\n",
    "             \n",
    "              \n",
    "        return 1 / (1+ distance)\n",
    "    \n",
    "\n",
    "def manhattan(instance1, instance2):\n",
    "        '''\n",
    "        Calculates manhattan distance between two instances of data\n",
    "        instance1 will be a List of Float values\n",
    "        instance2 will be a List of Float values\n",
    "        length will be an Integer denoting the length of the Lists\n",
    "        '''\n",
    "        distance = 0\n",
    "        for val1, val2 in zip(instance1, instance2):\n",
    "            distance += abs(val1 - val2)      \n",
    "              \n",
    "        return 1 / (1+ distance)\n",
    "    \n",
    "def dot_product(instance1, instance2):\n",
    "        '''\n",
    "        Calculates dot product between two instances \n",
    "        instance1 will be a List of Float values\n",
    "        instance2 will be a List of Float values\n",
    "        length will be an Integer denoting the length of the Lists\n",
    "        '''\n",
    "        return np.dot(instance1, instance2)\n",
    "    \n",
    "def cosine(instance1, instance2):\n",
    "        cossime = dot(instance1, instance20/(norm(instance1)*norm(instance2)))\n",
    "        return cossime"
   ]
  },
  {
   "cell_type": "markdown",
   "metadata": {},
   "source": [
    "## Class Layer_Dense to Build Layers"
   ]
  },
  {
   "cell_type": "code",
   "execution_count": 16,
   "metadata": {},
   "outputs": [],
   "source": [
    "class Layer_Dense:\n",
    "    def __init__(self, n_inputs, n_neurons, learningrate=0.01, activation='sigmoid'):\n",
    "        \n",
    "        self.weights = np.random.normal(0.0, pow(n_inputs, -0.5), (n_inputs, n_neurons))\n",
    "        print(self.weights.shape)\n",
    "        self.biases = np.zeros((1, n_neurons))\n",
    "       \n",
    "        self.lr = learningrate\n",
    "        self.activate=activation  \n",
    "        \n",
    "    def forward(self, inputs):\n",
    "        self.in_values = inputs\n",
    "        self.layer_input = np.dot(inputs , self.weights) + self.biases\n",
    "        self.activation()\n",
    "    \n",
    "    def activation(self):\n",
    "        if self.activate == 'sigmoid':\n",
    "            a = Activation_Sigmoid()\n",
    "            self.layer_output = a.forward(self.layer_input)\n",
    "            \n",
    "           \n",
    "    def del_activation(self):\n",
    "        if self.activate == 'sigmoid':\n",
    "            del_a = Activation_Sigmoid()\n",
    "            self.del_layer_output =  del_a.backward(del_a.forward(self.layer_input))\n",
    "      \n",
    "    def backward(self, delta_in, weights_in, targets=None, output_layer=False):\n",
    "        self.del_activation()\n",
    "        if output_layer:\n",
    "            self.layer_error = self.layer_output - targets\n",
    "            self.layer_delta = self.layer_error * self.del_layer_output\n",
    "        else:          \n",
    "            self.layer_error = np.dot(delta_in, weights_in.T)\n",
    "            self.layer_delta = self.layer_error * self.del_layer_output\n",
    "        \n",
    "    def weight_update(self, prev_layer_output):\n",
    "        # print(\"prev_layer_output.T.shape: \"+str(prev_layer_output.T.shape))\n",
    "        # print(\"self.layer_delta.shape: \"+str(self.layer_delta.shape))\n",
    "        N = self.layer_delta.shape[0]\n",
    "        weights_update = np.dot(prev_layer_output.T, self.layer_delta) / N\n",
    "        # print(weights_update.shape)\n",
    "        self.weights -= self.lr * weights_update\n",
    "        biases_update = np.mean(self.layer_delta, axis=0, keepdims=True)\n",
    "        # print(\"biases_update.shape: \"+ str(biases_update.shape))\n",
    "        # print(\"self.biases.shape: \"+ str(self.biases.shape))\n",
    "        self.biases -= self.lr * biases_update"
   ]
  },
  {
   "cell_type": "markdown",
   "metadata": {},
   "source": [
    "## Build ANN Class"
   ]
  },
  {
   "cell_type": "code",
   "execution_count": 17,
   "metadata": {},
   "outputs": [],
   "source": [
    "class ANN():\n",
    "    def __init__(self, ouput_layer, hidden_layer, batch_size = 10):\n",
    "        self.output = ouput_layer\n",
    "        self.layer1 = hidden_layer\n",
    "        self.batch_size = batch_size\n",
    "\n",
    "    def batch_input(self, x, y):\n",
    "        for i in range(0, len(x), self.batch_size):\n",
    "            yield (x[i:i + self.batch_size], y[i:i + self.batch_size])\n",
    "\n",
    "    def train(self, x, y, epochs, lr):\n",
    "        self.layer1.lr = lr\n",
    "        self.output.lr = lr\n",
    "\n",
    "        monitoring = {}\n",
    "        monitoring['mean_squared_error'] = []\n",
    "        monitoring['accuracy'] = []\n",
    "\n",
    "        for epoch in range(epochs):\n",
    "\n",
    "            for (batch_x, batch_y) in self.batch_input(x, y):\n",
    "                self.layer1.forward(batch_x)\n",
    "                # print('layer1 output \\n' ,layer1.layer_output.shape)\n",
    "                self.output.forward(self.layer1.layer_output)\n",
    "                # print('layer output  \\n', output.layer_output.shape)\n",
    "\n",
    "                # backprop through the layers \n",
    "                self.output.backward(None, None, batch_y, True)\n",
    "                # print('layer out delta  \\n', output.layer_delta.shape)\n",
    "                self.layer1.backward(self.output.layer_delta, self.output.weights)\n",
    "                # print('layer1 delta  \\n', layer1.layer_delta.shape)\n",
    "\n",
    "                # update all the layer weights\n",
    "                self.output.weight_update(self.layer1.layer_output)\n",
    "                # print('layer weights  \\n', output.weights.shape)\n",
    "                self.layer1.weight_update(batch_x)\n",
    "                # print('layer weights  \\n', layer1.weights.shape)\n",
    "            pred = self.predict(x)\n",
    "            mse, acc = self.evaluate(pred, y)\n",
    "            monitoring['mean_squared_error'].append(mse)\n",
    "            monitoring['accuracy'].append(acc)\n",
    "\n",
    "        monitoring_df = pd.DataFrame(monitoring)   \n",
    "        return monitoring_df\n",
    "\n",
    "    def predict(self, x):\n",
    "        self.layer1.forward(x)\n",
    "        self.output.forward(self.layer1.layer_output)\n",
    "        return self.output.layer_output\n",
    "\n",
    "    def evaluate(self, predicts, y):\n",
    "        mse = mean_squared_error(predicts, y)\n",
    "        acc = accuracy(predicts, y)\n",
    "        return mse, acc\n",
    "\n",
    "    def test(self, x, y):\n",
    "        monitoring = {}\n",
    "        pred = self.predict(x)\n",
    "        mse, acc = self.evaluate(pred, y)\n",
    "        monitoring['mean_squared_error'] = [mse]\n",
    "        monitoring['accuracy'] = [acc]\n",
    "        return pd.DataFrame(monitoring)"
   ]
  },
  {
   "cell_type": "markdown",
   "metadata": {},
   "source": [
    "## Build kNN Class"
   ]
  },
  {
   "cell_type": "code",
   "execution_count": 18,
   "metadata": {},
   "outputs": [],
   "source": [
    "class kNN:\n",
    "    \"\"\"\n",
    "    Parameters\n",
    "    X_train, Y_train : list\n",
    "    these consists of the training set feature values and associated class labels\n",
    "    k : int\n",
    "    specify the number of neighbours\n",
    "    sim : literal\n",
    "    specify the name of the similarity metric (e.g. manhattan, eucliedean)\n",
    "    weighted : Boolean\n",
    "    specify the voting strategy as weighted or not weighted by similarity values\n",
    "  \n",
    "    Attributes\n",
    "    -----------  \n",
    "    Results : list\n",
    "      Target and predicted class labels for the test data.    \n",
    "    \"\"\"\n",
    "\n",
    "\n",
    "    def __init__(self, X_train, Y_train, k=1, sim=euclidean, weighted=True):\n",
    "        self.X_train = X_train\n",
    "        self.Y_train = Y_train\n",
    "        \n",
    "        if k <= len(self.X_train):\n",
    "            self.k = k # set the k value for neighbourhood size\n",
    "        else:\n",
    "            self.k = len(self.X_train) # to ensure the get_neighbours dont crash\n",
    "    \n",
    "        self.similarity = sim # specify a sim metric that has been pre-defined e.g. manhattan or euclidean\n",
    "        \n",
    "        self.weighted = weighted # boolean to choose between weighted / unweighted majority voting\n",
    "        \n",
    "        #store results from testing \n",
    "        self.results= []\n",
    "        \n",
    "    #With k-NN, we are interested in finding the k number of points with the greatest similarity \n",
    "    # to the the query or test instance.\n",
    "    def get_neighbours(self, test_instance):\n",
    "        '''\n",
    "        Locate most similar neighbours \n",
    "        X_train will be a containing features (Float) values (i.e. your training data)\n",
    "        Y_train will be the corresponding class labels for each instance in X_train\n",
    "        test_instance will be a List of Float values (i.e. a query instance)\n",
    "        '''\n",
    "        similarities = [] # collection to store the similarities to be computed\n",
    "\n",
    "        for train_instance, y in zip(self.X_train, self.Y_train): #for each member of the training set\n",
    "            sim = self.similarity(test_instance, train_instance) #calculate the similarity to the test instance\n",
    "            \n",
    "            similarities.append((y, sim)) #add the actual label of the example and the computed similarity to a collection \n",
    "        #print(distances)\n",
    "        similarities.sort(key = operator.itemgetter(1), reverse = True) #sort the collection by decreasing similarity\n",
    "        neighbours = [] # holds the k most similar neighbours\n",
    "        for x in range(self.k): #extract the k top indices of the collection for return\n",
    "            neighbours.append(similarities[x])\n",
    "\n",
    "        return neighbours\n",
    "\n",
    "    # given the neighbours make a prediction\n",
    "    # the boolean parameter when set to False will use unweighted majority voting; otherwise weighted majority voting\n",
    "    # weighting can be helpful to break any ties in voting\n",
    "    def predict(self, neighbours):\n",
    "        '''\n",
    "        Summarise a prediction based upon weighted neighbours calculation\n",
    "        '''\n",
    "        class_votes = {}\n",
    "        for x in range(len(neighbours)):\n",
    "            response = neighbours[x][0]\n",
    "            if response in class_votes:\n",
    "                class_votes[response] += (1-self.weighted) + (self.weighted * neighbours[x][1]) #if not weighted simply add 1\n",
    "                #class_votes[response] += [1, neighbours[x][1]][weighted == True] \n",
    "              \n",
    "            else:\n",
    "                class_votes[response] = (1-self.weighted) + (self.weighted * neighbours[x][1])\n",
    "                #class_votes[response] = [1, neighbours[x][1]][weighted == True] \n",
    "                \n",
    "        #print(class_votes)\n",
    "        sorted_votes = sorted(class_votes, key = lambda k: (class_votes[k], k), reverse = True)\n",
    "        #print(sorted_votes)\n",
    "        return sorted_votes[0]\n",
    "    \n",
    "    #iterate through all the test data to calculate accuracy\n",
    "    def test(self, X_test, Y_test):\n",
    "        self.results = [] # store the predictions returned by kNN\n",
    "\n",
    "        for test_instance, target_label in zip(X_test, Y_test):\n",
    "            neighbours = self.get_neighbours(test_instance)\n",
    "            predict_label = self.predict(neighbours)\n",
    "            self.results.append([predict_label, target_label])\n",
    "            #print('> predicted = ', result,', actual = ', test_label)"
   ]
  },
  {
   "cell_type": "markdown",
   "metadata": {},
   "source": [
    "## Train ANN"
   ]
  },
  {
   "cell_type": "markdown",
   "metadata": {},
   "source": [
    "### Regular Data"
   ]
  },
  {
   "cell_type": "code",
   "execution_count": 19,
   "metadata": {},
   "outputs": [
    {
     "name": "stdout",
     "output_type": "stream",
     "text": [
      "(784, 200)\n",
      "(200, 10)\n",
      "Accuracy  0.3793\n",
      "37.93103448275862\n"
     ]
    }
   ],
   "source": [
    "ann_X_my_test = np.array(ann_X_my_test)\n",
    "ann_y_my_test = np.array(ann_y_my_test)\n",
    "\n",
    "np.random.seed(42)\n",
    "\n",
    "# set other hyperparameters\n",
    "batch_size = 1\n",
    "epochs = 10\n",
    "lr = 0.3\n",
    "\n",
    "# configure the layers\n",
    "hidden = Layer_Dense(784,200)\n",
    "output = Layer_Dense(200,10)\n",
    "\n",
    "# create an ANN model\n",
    "ann = ANN(output, hidden, batch_size)\n",
    "\n",
    "# train the ANN model with training data\n",
    "train_performance = ann.train(X_train, y_train, epochs, lr)\n",
    "\n",
    "train_performance\n",
    "\n",
    "ann_list = []\n",
    "train_performance_list = []\n",
    "\n",
    "# create an ANN model\n",
    "ann = ANN(output, hidden, batch_size)\n",
    "\n",
    "# train the ANN model with training data\n",
    "train_performance = ann.train(X_train, y_train, epochs, lr)\n",
    "train_performance\n",
    "    \n",
    "#test the model\n",
    "df_test_result = ann.test(ann_X_my_test, ann_y_my_test)\n",
    "  \n",
    "acc=df_test_result['accuracy'].values\n",
    "print(\"Accuracy \", '%.4f' % acc[0])\n",
    "annAcc = float(acc[0] * 100)\n",
    "print(annAcc)"
   ]
  },
  {
   "cell_type": "markdown",
   "metadata": {},
   "source": [
    "## Train kNN"
   ]
  },
  {
   "cell_type": "markdown",
   "metadata": {},
   "source": [
    "### Regular Data"
   ]
  },
  {
   "cell_type": "code",
   "execution_count": 20,
   "metadata": {},
   "outputs": [],
   "source": [
    "np.random.seed(42)\n",
    "\n",
    "knn_list = []\n",
    "\n",
    "#create the different instances of the kNN class\n",
    "knn = kNN(kNN_X_train, kNN_y_train, 1, euclidean, True)     \n",
    "knn.test(X_my_test, y_my_test)\n",
    "knn_list.append(knn)# now append the set of models "
   ]
  },
  {
   "cell_type": "code",
   "execution_count": 21,
   "metadata": {},
   "outputs": [
    {
     "name": "stdout",
     "output_type": "stream",
     "text": [
      "Accuracy  37.9310\n"
     ]
    }
   ],
   "source": [
    "print(\"Accuracy \", '%.4f' %  accuracyknn(knn_list[0].results))\n",
    "knnAcc = float(accuracyknn(knn_list[0].results))"
   ]
  },
  {
   "cell_type": "markdown",
   "metadata": {},
   "source": [
    "## Model ANN vs kNN on Handwriting"
   ]
  },
  {
   "cell_type": "code",
   "execution_count": 22,
   "metadata": {},
   "outputs": [],
   "source": [
    "combined_acc = []\n",
    "combined_acc.append(annAcc)\n",
    "combined_acc.append(knnAcc)"
   ]
  },
  {
   "cell_type": "code",
   "execution_count": 23,
   "metadata": {},
   "outputs": [
    {
     "data": {
      "image/png": "[encoded data removed]",
      "text/plain": [
       "<Figure size 432x288 with 1 Axes>"
      ]
     },
     "metadata": {
      "needs_background": "light"
     },
     "output_type": "display_data"
    }
   ],
   "source": [
    "objects = ['ANN', 'kNN']\n",
    "y_pos = np.arange(len(objects))\n",
    "performance = combined_acc\n",
    "\n",
    "batchsize_axes = plt.gca()\n",
    "batchsize_axes.set_ylim([0,100])\n",
    "\n",
    "plt.bar(y_pos, performance, align='center', alpha=0.5)\n",
    "plt.xticks(y_pos, objects)\n",
    "plt.ylabel('Accuracy')\n",
    "plt.title('Handwritten ANN vs kNN')\n",
    "\n",
    "plt.show()"
   ]
  },
  {
   "cell_type": "code",
   "execution_count": null,
   "metadata": {},
   "outputs": [],
   "source": []
  }
 ],
 "metadata": {
  "kernelspec": {
   "display_name": "Python 3",
   "language": "python",
   "name": "python3"
  },
  "language_info": {
   "codemirror_mode": {
    "name": "ipython",
    "version": 3
   },
   "file_extension": ".py",
   "mimetype": "text/x-python",
   "name": "python",
   "nbconvert_exporter": "python",
   "pygments_lexer": "ipython3",
   "version": "3.8.3"
  }
 },
 "nbformat": 4,
 "nbformat_minor": 4
}
